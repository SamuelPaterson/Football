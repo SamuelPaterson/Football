{
 "cells": [
  {
   "cell_type": "code",
   "execution_count": 1,
   "id": "cb5338c6",
   "metadata": {},
   "outputs": [],
   "source": [
    "import sqlite3\n",
    "import pandas as pd\n",
    "import matplotlib.pyplot as plt\n",
    "from mplsoccer.pitch import VerticalPitch\n",
    "import statistics"
   ]
  },
  {
   "cell_type": "code",
   "execution_count": 2,
   "id": "202c7e24",
   "metadata": {},
   "outputs": [],
   "source": [
    "conn = sqlite3.connect(\"Databases\\Players\\ManchesterCity\\RaheemSterling\\RaheemSterling_All_Shots_Data.db\")\n",
    "sql_query = \"\"\"SELECT date, minute, result, h_a,\n",
    "    CAST(xG as REAL) as xG,\n",
    "    X*120 AS y,\n",
    "    Y*80 AS x,\n",
    "    CASE\n",
    "        WHEN result == \"Goal\" THEN 1\n",
    "        WHEN result != \"Goal\" THEN 0\n",
    "    END AS \"goal_binary\"\n",
    "    FROM RaheemSterling_All_Shots_Data\n",
    "    \"\"\"\n",
    "df = pd.read_sql(sql_query, conn)\n",
    "conn.close()\n",
    "\n",
    "df_left_6yard = df.loc[df.x>30].loc[df.x<40].loc[df.y>114].loc[df.y<120]\n",
    "df_right_6yard = df.loc[df.x>40].loc[df.x<50].loc[df.y>114].loc[df.y<120]\n",
    "\n",
    "df_top_left_halfspace = df.loc[df.x>18].loc[df.x<30].loc[df.y>111].loc[df.y<120]\n",
    "df_bottom_left_halfspace = df.loc[df.x>18].loc[df.x<30].loc[df.y>102].loc[df.y<111]\n",
    "df_top_right_halfspace = df.loc[df.x>50].loc[df.x<62].loc[df.y>111].loc[df.y<120]\n",
    "df_bottom_right_halfspace = df.loc[df.x>50].loc[df.x<62].loc[df.y>102].loc[df.y<111]\n",
    "\n",
    "df_left_penalty = df.loc[df.x>30].loc[df.x<40].loc[df.y>102].loc[df.y<114]\n",
    "df_right_penalty = df.loc[df.x>40].loc[df.x<50].loc[df.y>102].loc[df.y<114]\n",
    "\n",
    "df_inside = df.loc[df.x>18].loc[df.x<120].loc[df.y>0].loc[df.y<102]\n",
    "df_left_outside = df.loc[df.x>0].loc[df.x<18].loc[df.y>0].loc[df.y<120]\n",
    "df_right_outside = df.loc[df.x>62].loc[df.x<80].loc[df.y>0].loc[df.y<120]"
   ]
  },
  {
   "cell_type": "code",
   "execution_count": 3,
   "id": "ba02e60e",
   "metadata": {},
   "outputs": [
    {
     "data": {
      "text/plain": [
       "1.1888888888888889"
      ]
     },
     "execution_count": 3,
     "metadata": {},
     "output_type": "execute_result"
    }
   ],
   "source": [
    "left_6yard_xgdif = float(\"{:.1f}\".format(100 * (df_left_6yard.goal_binary.sum() - df_left_6yard.xG.sum())/len(df_left_6yard.index)))\n",
    "right_6yard_xgdif = float(\"{:.1f}\".format(100 * (df_right_6yard.goal_binary.sum() - df_right_6yard.xG.sum())/len(df_right_6yard.index)))\n",
    "\n",
    "top_left_halfspace_xgdif = float(\"{:.1f}\".format(100 * (df_top_left_halfspace.goal_binary.sum() - df_top_left_halfspace.xG.sum())/len(df_top_left_halfspace.index)))\n",
    "bottom_left_halfspace_xgdif = float(\"{:.1f}\".format(100 * (df_bottom_left_halfspace.goal_binary.sum() - df_bottom_left_halfspace.xG.sum())/len(df_bottom_left_halfspace.index)))\n",
    "top_right_halfspace_xgdif = float(\"{:.1f}\".format(100 * (df_top_right_halfspace.goal_binary.sum() - df_top_right_halfspace.xG.sum())/len(df_top_right_halfspace.index)))\n",
    "bottom_right_halfspace_xgdif = float(\"{:.1f}\".format(100 * (df_bottom_right_halfspace.goal_binary.sum() - df_bottom_right_halfspace.xG.sum())/len(df_bottom_right_halfspace.index)))\n",
    "\n",
    "left_penalty_xgdif = float(\"{:.1f}\".format(100 * (df_left_penalty.goal_binary.sum() - df_left_penalty.xG.sum())/len(df_left_penalty.index)))\n",
    "right_penalty_xgdif = float(\"{:.1f}\".format(100 * (df_right_penalty.goal_binary.sum() - df_right_penalty.xG.sum())/len(df_right_penalty.index)))\n",
    "\n",
    "inside_xgdif = float(\"{:.1f}\".format(100 * (df_inside.goal_binary.sum() - df_inside.xG.sum()/len(df_inside.index))/len(df_inside.index)))\n",
    "\n",
    "average_xgdif = statistics.mean([left_6yard_xgdif, right_6yard_xgdif, top_left_halfspace_xgdif, bottom_left_halfspace_xgdif, top_right_halfspace_xgdif, bottom_right_halfspace_xgdif, left_penalty_xgdif, right_penalty_xgdif, inside_xgdif])\n",
    "max_xgdif = max([left_6yard_xgdif, right_6yard_xgdif, top_left_halfspace_xgdif, bottom_left_halfspace_xgdif, top_right_halfspace_xgdif, bottom_right_halfspace_xgdif, left_penalty_xgdif, right_penalty_xgdif, inside_xgdif])\n",
    "min_xgdif = min([left_6yard_xgdif, right_6yard_xgdif, top_left_halfspace_xgdif, bottom_left_halfspace_xgdif, top_right_halfspace_xgdif, bottom_right_halfspace_xgdif, left_penalty_xgdif, right_penalty_xgdif, inside_xgdif])\n",
    "average_xgdif"
   ]
  },
  {
   "cell_type": "code",
   "execution_count": 4,
   "id": "31f6d768",
   "metadata": {},
   "outputs": [],
   "source": [
    "def get_colour(xgdif):\n",
    "    if xgdif > 0:\n",
    "        colour = 'green'\n",
    "        alpha = xgdif/max_xgdif\n",
    "    elif xgdif < 0:\n",
    "        colour = 'red'\n",
    "        alpha = xgdif/min_xgdif\n",
    "    else:\n",
    "        colour ='#03021a'\n",
    "        alpha = 0\n",
    "    return [colour, alpha]"
   ]
  },
  {
   "cell_type": "code",
   "execution_count": 5,
   "id": "4864aa23",
   "metadata": {},
   "outputs": [],
   "source": [
    "colour, alpha= get_colour(left_6yard_xgdif)\n",
    "left_6yard= plt.Rectangle((30,114), 10, 6, fc=colour, ec='w', alpha = alpha)\n",
    "colour, alpha= get_colour(right_6yard_xgdif)\n",
    "right_6yard = plt.Rectangle((40,114), 10, 6, fc=colour, ec='w', alpha=alpha)\n",
    "\n",
    "colour, alpha= get_colour(top_left_halfspace_xgdif)\n",
    "top_left_halfspace = plt.Rectangle((18,111), 12, 9, fc=colour, ec='w', alpha=alpha)\n",
    "colour, alpha= get_colour(bottom_left_halfspace_xgdif)\n",
    "bottom_left_halfspace = plt.Rectangle((18,102), 12, 9, fc=colour, ec='w', alpha=alpha)\n",
    "colour, alpha= get_colour(top_right_halfspace_xgdif)\n",
    "top_right_halfspace = plt.Rectangle((50,111), 12, 9, fc=colour, ec='w', alpha=alpha)\n",
    "colour, alpha= get_colour(bottom_right_halfspace_xgdif)\n",
    "bottom_right_halfspace = plt.Rectangle((50,102), 12, 9, fc=colour, ec='w', alpha=alpha)\n",
    "\n",
    "colour, alpha= get_colour(left_penalty_xgdif)\n",
    "left_penalty = plt.Rectangle((30,102), 10, 12, fc=colour, ec='w', alpha=alpha)\n",
    "colour, alpha= get_colour(right_penalty_xgdif)\n",
    "right_penalty = plt.Rectangle((40,102), 10, 12, fc=colour, ec='w', alpha=.5)\n",
    "\n",
    "colour, alpha= get_colour(inside_xgdif)\n",
    "inside = plt.Rectangle((18, 0), 44, 102, fc=colour, ec='w', alpha=.5)\n",
    "#colour, alpha= get_colour(left_outside_xgdif)\n",
    "#left_outside = plt.Rectangle((0,0), 18,120,fc=colour,ec='w',alpha=.5)\n",
    "#colour, alpha= get_colour(right_outside_xgdif)\n",
    "#right_outside = plt.Rectangle((62,0), 18,120,fc=colour,ec='w',alpha=.5)"
   ]
  },
  {
   "cell_type": "code",
   "execution_count": 6,
   "id": "610f3af3",
   "metadata": {},
   "outputs": [
    {
     "data": {
      "image/png": "[encoded data removed]",
      "text/plain": [
       "<Figure size 720x720 with 1 Axes>"
      ]
     },
     "metadata": {},
     "output_type": "display_data"
    },
    {
     "data": {
      "text/plain": [
       "<Figure size 432x288 with 0 Axes>"
      ]
     },
     "metadata": {},
     "output_type": "display_data"
    }
   ],
   "source": [
    "fig, axs = plt.subplots(figsize=(10, 10))\n",
    "fig.patch.set_facecolor('#03021a') \n",
    "pitch = VerticalPitch(pitch_color='#03021a', line_color='white', half=True, pad_bottom=-25)\n",
    "pitch.draw(ax=axs)\n",
    "\n",
    "plt.gca().add_patch(left_6yard)\n",
    "rx, ry = left_6yard.get_xy()\n",
    "cx = rx + left_6yard.get_width()/2.0\n",
    "cy = ry + left_6yard.get_height()/2.0\n",
    "axs.annotate(str(left_6yard_xgdif)+\"%\", (cx, cy), color='w', fontsize=13, ha='center', va='center')\n",
    "\n",
    "plt.gca().add_patch(right_6yard)\n",
    "rx, ry = right_6yard.get_xy()\n",
    "cx = rx + right_6yard.get_width()/2.0\n",
    "cy = ry + right_6yard.get_height()/2.0\n",
    "axs.annotate(str(right_6yard_xgdif)+\"%\", (cx, cy), color='w', fontsize=13, ha='center', va='center')\n",
    "             \n",
    "\n",
    "plt.gca().add_patch(top_left_halfspace)\n",
    "rx, ry = top_left_halfspace.get_xy()\n",
    "cx = rx + top_left_halfspace.get_width()/2.0\n",
    "cy = ry + top_left_halfspace.get_height()/2.0\n",
    "axs.annotate(str(top_left_halfspace_xgdif)+\"%\", (cx, cy), color='w', fontsize=13, ha='center', va='center')\n",
    "             \n",
    "plt.gca().add_patch(bottom_left_halfspace)\n",
    "rx, ry = bottom_left_halfspace.get_xy()\n",
    "cx = rx + bottom_left_halfspace.get_width()/2.0\n",
    "cy = ry + bottom_left_halfspace.get_height()/2.0\n",
    "axs.annotate(str(bottom_left_halfspace_xgdif)+\"%\", (cx, cy), color='w', fontsize=13, ha='center', va='center')\n",
    "             \n",
    "plt.gca().add_patch(top_right_halfspace)\n",
    "rx, ry = top_right_halfspace.get_xy()\n",
    "cx = rx + top_right_halfspace.get_width()/2.0\n",
    "cy = ry + top_right_halfspace.get_height()/2.0\n",
    "axs.annotate(str(top_right_halfspace_xgdif)+\"%\", (cx, cy), color='w', fontsize=13, ha='center', va='center')\n",
    "             \n",
    "plt.gca().add_patch(bottom_right_halfspace)\n",
    "rx, ry = bottom_right_halfspace.get_xy()\n",
    "cx = rx + bottom_right_halfspace.get_width()/2.0\n",
    "cy = ry + bottom_right_halfspace.get_height()/2.0\n",
    "axs.annotate(str(bottom_right_halfspace_xgdif)+\"%\", (cx, cy), color='w', fontsize=13, ha='center', va='center')\n",
    "\n",
    "plt.gca().add_patch(left_penalty)\n",
    "rx, ry = left_penalty.get_xy()\n",
    "cx = rx + left_penalty.get_width()/2.0\n",
    "cy = ry + left_penalty.get_height()/2.0\n",
    "axs.annotate(str(left_penalty_xgdif)+\"%\", (cx, cy), color='w', fontsize=13, ha='center', va='center')\n",
    "             \n",
    "plt.gca().add_patch(right_penalty)\n",
    "rx, ry = right_penalty.get_xy()\n",
    "cx = rx + right_penalty.get_width()/2.0\n",
    "cy = ry + right_penalty.get_height()/2.0\n",
    "axs.annotate(str(right_penalty_xgdif)+\"%\", (cx, cy), color='w', fontsize=13, ha='center', va='center')\n",
    "\n",
    "\n",
    "plt.gca().add_patch(inside)\n",
    "rx, ry = inside.get_xy()\n",
    "cx = rx + inside.get_width()/2.0\n",
    "cy = ry + inside.get_height()/2.0\n",
    "axs.annotate(str(inside_xgdif)+\"%\", (cx, cy+42), color='w', fontsize=15, ha='center')\n",
    "\n",
    "#plt.gca().add_patch(left_outside)\n",
    "#plt.gca().add_patch(right_outside)\n",
    "\n",
    "\n",
    "plt.title('Raheem Sterling xG \\n Overperformance Based off Shooting Position', y=0.95, fontsize=20, color='w')\n",
    "plt.show()"
   ]
  },
  {
   "cell_type": "code",
   "execution_count": null,
   "id": "9881293e",
   "metadata": {},
   "outputs": [],
   "source": []
  }
 ],
 "metadata": {
  "kernelspec": {
   "display_name": "Python 3 (ipykernel)",
   "language": "python",
   "name": "python3"
  },
  "language_info": {
   "codemirror_mode": {
    "name": "ipython",
    "version": 3
   },
   "file_extension": ".py",
   "mimetype": "text/x-python",
   "name": "python",
   "nbconvert_exporter": "python",
   "pygments_lexer": "ipython3",
   "version": "3.9.12"
  }
 },
 "nbformat": 4,
 "nbformat_minor": 5
}
