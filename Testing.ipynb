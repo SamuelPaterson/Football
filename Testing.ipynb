{
 "cells": [
  {
   "cell_type": "code",
   "execution_count": 1,
   "id": "ca82b311",
   "metadata": {},
   "outputs": [],
   "source": [
    "import sqlite3\n",
    "import pandas as pd\n",
    "import os\n",
    "import matplotlib.pyplot as plt\n",
    "import matplotlib.dates as mdates"
   ]
  },
  {
   "cell_type": "code",
   "execution_count": 2,
   "id": "732661fd",
   "metadata": {},
   "outputs": [
    {
     "name": "stdout",
     "output_type": "stream",
     "text": [
      "Databases\\Players\\BorussiaDortmund\\ErlingHaaland\\ErlingHaaland_All_Shots_Data.db\n"
     ]
    }
   ],
   "source": [
    "path = os.path.join(\"Databases\", \"Players\", \"BorussiaDortmund\", \"ErlingHaaland\", \"ErlingHaaland_All_Shots_Data.db\")\n",
    "conn = sqlite3.connect(path)\n",
    "c = conn.cursor()\n",
    "print(path)"
   ]
  },
  {
   "cell_type": "code",
   "execution_count": 3,
   "id": "373c0757",
   "metadata": {},
   "outputs": [],
   "source": [
    "sql_query = \"\"\"SELECT date,\n",
    "    (\n",
    "    (AVG(\n",
    "        CASE\n",
    "            WHEN result LIKE '%Goal%' THEN 1\n",
    "            ELSE 0\n",
    "        END\n",
    "        )\n",
    "    OVER (ORDER BY date ROWS BETWEEN 20 PRECEDING AND CURRENT ROW))\n",
    "    -\n",
    "    (AVG(xg) OVER (ORDER BY date ROWS BETWEEN 20 PRECEDING AND CURRENT ROW))\n",
    "    ) AS xg_overperformance\n",
    "    FROM ErlingHaaland_All_Shots_Data\n",
    "    \"\"\"\n",
    "data = pd.read_sql(sql_query, conn)"
   ]
  },
  {
   "cell_type": "code",
   "execution_count": 4,
   "id": "aa8c9a72",
   "metadata": {},
   "outputs": [
    {
     "data": {
      "image/png": "[encoded data removed]",
      "text/plain": [
       "<Figure size 432x288 with 1 Axes>"
      ]
     },
     "metadata": {},
     "output_type": "display_data"
    }
   ],
   "source": [
    "plt.style.use('ggplot')\n",
    "plt.plot(data.date[20:], data.xg_overperformance[20:])\n",
    "plt.show()"
   ]
  },
  {
   "cell_type": "code",
   "execution_count": 5,
   "id": "2f27c79b",
   "metadata": {},
   "outputs": [
    {
     "data": {
      "text/html": [
       "<div>\n",
       "<style scoped>\n",
       "    .dataframe tbody tr th:only-of-type {\n",
       "        vertical-align: middle;\n",
       "    }\n",
       "\n",
       "    .dataframe tbody tr th {\n",
       "        vertical-align: top;\n",
       "    }\n",
       "\n",
       "    .dataframe thead th {\n",
       "        text-align: right;\n",
       "    }\n",
       "</style>\n",
       "<table border=\"1\" class=\"dataframe\">\n",
       "  <thead>\n",
       "    <tr style=\"text-align: right;\">\n",
       "      <th></th>\n",
       "      <th>date</th>\n",
       "      <th>xg_overperformance</th>\n",
       "    </tr>\n",
       "  </thead>\n",
       "  <tbody>\n",
       "    <tr>\n",
       "      <th>0</th>\n",
       "      <td>2020-01-18 14:30:00</td>\n",
       "      <td>0.920667</td>\n",
       "    </tr>\n",
       "    <tr>\n",
       "      <th>1</th>\n",
       "      <td>2020-01-18 14:30:00</td>\n",
       "      <td>0.500023</td>\n",
       "    </tr>\n",
       "    <tr>\n",
       "      <th>2</th>\n",
       "      <td>2020-01-18 14:30:00</td>\n",
       "      <td>0.559072</td>\n",
       "    </tr>\n",
       "    <tr>\n",
       "      <th>3</th>\n",
       "      <td>2020-01-24 19:30:00</td>\n",
       "      <td>0.389508</td>\n",
       "    </tr>\n",
       "    <tr>\n",
       "      <th>4</th>\n",
       "      <td>2020-01-24 19:30:00</td>\n",
       "      <td>0.362279</td>\n",
       "    </tr>\n",
       "    <tr>\n",
       "      <th>...</th>\n",
       "      <td>...</td>\n",
       "      <td>...</td>\n",
       "    </tr>\n",
       "    <tr>\n",
       "      <th>194</th>\n",
       "      <td>2022-04-30 13:30:00</td>\n",
       "      <td>0.015017</td>\n",
       "    </tr>\n",
       "    <tr>\n",
       "      <th>195</th>\n",
       "      <td>2022-04-30 13:30:00</td>\n",
       "      <td>0.028679</td>\n",
       "    </tr>\n",
       "    <tr>\n",
       "      <th>196</th>\n",
       "      <td>2022-04-30 13:30:00</td>\n",
       "      <td>0.034061</td>\n",
       "    </tr>\n",
       "    <tr>\n",
       "      <th>197</th>\n",
       "      <td>2022-04-30 13:30:00</td>\n",
       "      <td>0.031110</td>\n",
       "    </tr>\n",
       "    <tr>\n",
       "      <th>198</th>\n",
       "      <td>2022-04-30 13:30:00</td>\n",
       "      <td>0.076574</td>\n",
       "    </tr>\n",
       "  </tbody>\n",
       "</table>\n",
       "<p>199 rows × 2 columns</p>\n",
       "</div>"
      ],
      "text/plain": [
       "                    date  xg_overperformance\n",
       "0    2020-01-18 14:30:00            0.920667\n",
       "1    2020-01-18 14:30:00            0.500023\n",
       "2    2020-01-18 14:30:00            0.559072\n",
       "3    2020-01-24 19:30:00            0.389508\n",
       "4    2020-01-24 19:30:00            0.362279\n",
       "..                   ...                 ...\n",
       "194  2022-04-30 13:30:00            0.015017\n",
       "195  2022-04-30 13:30:00            0.028679\n",
       "196  2022-04-30 13:30:00            0.034061\n",
       "197  2022-04-30 13:30:00            0.031110\n",
       "198  2022-04-30 13:30:00            0.076574\n",
       "\n",
       "[199 rows x 2 columns]"
      ]
     },
     "execution_count": 5,
     "metadata": {},
     "output_type": "execute_result"
    }
   ],
   "source": [
    "data"
   ]
  },
  {
   "cell_type": "code",
   "execution_count": 6,
   "id": "4507ada8",
   "metadata": {},
   "outputs": [],
   "source": [
    "conn.close()"
   ]
  }
 ],
 "metadata": {
  "kernelspec": {
   "display_name": "Python 3 (ipykernel)",
   "language": "python",
   "name": "python3"
  },
  "language_info": {
   "codemirror_mode": {
    "name": "ipython",
    "version": 3
   },
   "file_extension": ".py",
   "mimetype": "text/x-python",
   "name": "python",
   "nbconvert_exporter": "python",
   "pygments_lexer": "ipython3",
   "version": "3.9.12"
  }
 },
 "nbformat": 4,
 "nbformat_minor": 5
}
