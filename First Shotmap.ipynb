{
 "cells": [
  {
   "cell_type": "code",
   "execution_count": 1,
   "id": "77dd62be",
   "metadata": {},
   "outputs": [],
   "source": [
    "import sqlite3\n",
    "import matplotlib.pyplot as plt\n",
    "import pandas as pd\n",
    "from mplsoccer.pitch import VerticalPitch"
   ]
  },
  {
   "cell_type": "code",
   "execution_count": 2,
   "id": "25924af2",
   "metadata": {
    "scrolled": true
   },
   "outputs": [
    {
     "data": {
      "text/html": [
       "<div>\n",
       "<style scoped>\n",
       "    .dataframe tbody tr th:only-of-type {\n",
       "        vertical-align: middle;\n",
       "    }\n",
       "\n",
       "    .dataframe tbody tr th {\n",
       "        vertical-align: top;\n",
       "    }\n",
       "\n",
       "    .dataframe thead th {\n",
       "        text-align: right;\n",
       "    }\n",
       "</style>\n",
       "<table border=\"1\" class=\"dataframe\">\n",
       "  <thead>\n",
       "    <tr style=\"text-align: right;\">\n",
       "      <th></th>\n",
       "      <th>date</th>\n",
       "      <th>minute</th>\n",
       "      <th>result</th>\n",
       "      <th>h_a</th>\n",
       "      <th>X</th>\n",
       "      <th>Y</th>\n",
       "      <th>scaled_xg</th>\n",
       "      <th>y</th>\n",
       "      <th>x</th>\n",
       "    </tr>\n",
       "  </thead>\n",
       "  <tbody>\n",
       "    <tr>\n",
       "      <th>8</th>\n",
       "      <td>2020-11-07 17:30:00</td>\n",
       "      <td>82</td>\n",
       "      <td>Goal</td>\n",
       "      <td>h</td>\n",
       "      <td>0.9269999694824219</td>\n",
       "      <td>0.6170000076293946</td>\n",
       "      <td>127.018228</td>\n",
       "      <td>111.239996</td>\n",
       "      <td>30.639999</td>\n",
       "    </tr>\n",
       "    <tr>\n",
       "      <th>9</th>\n",
       "      <td>2021-03-06 17:30:00</td>\n",
       "      <td>1</td>\n",
       "      <td>Goal</td>\n",
       "      <td>a</td>\n",
       "      <td>0.7830000305175782</td>\n",
       "      <td>0.549000015258789</td>\n",
       "      <td>19.231115</td>\n",
       "      <td>93.960004</td>\n",
       "      <td>36.079999</td>\n",
       "    </tr>\n",
       "    <tr>\n",
       "      <th>10</th>\n",
       "      <td>2021-03-06 17:30:00</td>\n",
       "      <td>8</td>\n",
       "      <td>Goal</td>\n",
       "      <td>a</td>\n",
       "      <td>0.9569999694824218</td>\n",
       "      <td>0.5540000152587891</td>\n",
       "      <td>324.782282</td>\n",
       "      <td>114.839996</td>\n",
       "      <td>35.679999</td>\n",
       "    </tr>\n",
       "    <tr>\n",
       "      <th>12</th>\n",
       "      <td>2021-12-04 17:30:00</td>\n",
       "      <td>47</td>\n",
       "      <td>Goal</td>\n",
       "      <td>h</td>\n",
       "      <td>0.9009999847412109</td>\n",
       "      <td>0.655</td>\n",
       "      <td>35.320334</td>\n",
       "      <td>108.119998</td>\n",
       "      <td>27.600000</td>\n",
       "    </tr>\n",
       "  </tbody>\n",
       "</table>\n",
       "</div>"
      ],
      "text/plain": [
       "                   date minute result h_a                   X  \\\n",
       "8   2020-11-07 17:30:00     82   Goal   h  0.9269999694824219   \n",
       "9   2021-03-06 17:30:00      1   Goal   a  0.7830000305175782   \n",
       "10  2021-03-06 17:30:00      8   Goal   a  0.9569999694824218   \n",
       "12  2021-12-04 17:30:00     47   Goal   h  0.9009999847412109   \n",
       "\n",
       "                     Y   scaled_xg           y          x  \n",
       "8   0.6170000076293946  127.018228  111.239996  30.639999  \n",
       "9    0.549000015258789   19.231115   93.960004  36.079999  \n",
       "10  0.5540000152587891  324.782282  114.839996  35.679999  \n",
       "12               0.655   35.320334  108.119998  27.600000  "
      ]
     },
     "execution_count": 2,
     "metadata": {},
     "output_type": "execute_result"
    }
   ],
   "source": [
    "conn = sqlite3.connect(\"Databases\\Players\\BorussiaDortmund\\ErlingHaaland\\ErlingHaaland_All_Shots_Data.db\")\n",
    "sql_query = \"\"\"SELECT date, minute, result, h_a, X, Y,\n",
    "    CAST(xG AS REAL)*500 as scaled_xg,\n",
    "    X*120 AS y,\n",
    "    (1-Y)*80 AS x\n",
    "    FROM ErlingHaaland_All_Shots_Data\n",
    "    WHERE \n",
    "        ((h_team IS 'Borussia Dortmund' AND a_team IS 'Bayern Munich') OR\n",
    "        (h_team IS 'Bayern Munich' AND a_team IS 'Borussia Dortmund'))\n",
    "    \"\"\"\n",
    "data = pd.read_sql(sql_query, conn)\n",
    "conn.close()\n",
    "\n",
    "data_goals = data.loc[data.result == 'Goal']\n",
    "data_nongoals = data.loc[data.result != 'Goal']\n",
    "data_goals"
   ]
  },
  {
   "cell_type": "code",
   "execution_count": 3,
   "id": "e6efec14",
   "metadata": {},
   "outputs": [],
   "source": [
    "goals = [data_goals.x.values.tolist(), data_goals.y.values.tolist(), data_goals.scaled_xg.values.tolist()]\n",
    "nongoals = [data_nongoals.x.values.tolist(), data_nongoals.y.values.tolist(), data_nongoals.scaled_xg.values.tolist()]"
   ]
  },
  {
   "cell_type": "code",
   "execution_count": 7,
   "id": "11fb73b3",
   "metadata": {
    "scrolled": false
   },
   "outputs": [
    {
     "data": {
      "image/png": "[encoded data removed]",
      "text/plain": [
       "<Figure size 720x720 with 1 Axes>"
      ]
     },
     "metadata": {},
     "output_type": "display_data"
    }
   ],
   "source": [
    "fig, axs = plt.subplots(figsize=(10, 10))\n",
    "fig.patch.set_facecolor('#03021a') \n",
    "pitch = VerticalPitch(pitch_color='#03021a', line_color='white', half=True, pad_bottom=-25)\n",
    "pitch.draw(ax=axs)\n",
    "\n",
    "plt.scatter(goals[0], goals[1], goals[2], alpha=0.75, label = 'Goals')\n",
    "plt.scatter(nongoals[0], nongoals[1], nongoals[2], alpha =0.75, label = 'Non-Goals')\n",
    "plt.suptitle('Erling Haaland vs Bayern Munich', y=0.72, x=0.51, fontsize=22, color='w')\n",
    "plt.title('League Games from 2020-2022', y=0.95, fontsize=14, color='w')\n",
    "plt.legend(loc=\"lower left\", fontsize = 15, markerscale = 1)\n",
    "plt.show()"
   ]
  },
  {
   "cell_type": "code",
   "execution_count": null,
   "id": "b6a5268a",
   "metadata": {},
   "outputs": [],
   "source": []
  }
 ],
 "metadata": {
  "kernelspec": {
   "display_name": "Python 3 (ipykernel)",
   "language": "python",
   "name": "python3"
  },
  "language_info": {
   "codemirror_mode": {
    "name": "ipython",
    "version": 3
   },
   "file_extension": ".py",
   "mimetype": "text/x-python",
   "name": "python",
   "nbconvert_exporter": "python",
   "pygments_lexer": "ipython3",
   "version": "3.9.12"
  }
 },
 "nbformat": 4,
 "nbformat_minor": 5
}
